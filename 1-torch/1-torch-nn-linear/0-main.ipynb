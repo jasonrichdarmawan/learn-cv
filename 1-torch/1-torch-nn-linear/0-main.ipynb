{
 "cells": [
  {
   "cell_type": "markdown",
   "metadata": {},
   "source": [
    "# How does `torch.nn.Linear` works?\n",
    "\n",
    "`torch.nn.Linear` works by performing a matrix multiplication of the input data with weight matrix and adding the bias term.\n",
    "\n",
    "$$input \\cdot weight + bias$$\n",
    "\n",
    "Reference:\n",
    "1. https://docs.kanaries.net/topics/Python/nn-linear"
   ]
  },
  {
   "cell_type": "code",
   "execution_count": 4,
   "metadata": {},
   "outputs": [
    {
     "name": "stdout",
     "output_type": "stream",
     "text": [
      "input.shape\n",
      "torch.Size([2, 2])\n",
      "input\n",
      "tensor([[1., 2.],\n",
      "        [3., 4.]])\n",
      "m.weight.shape\n",
      "torch.Size([3, 2])\n",
      "m.weight\n",
      "Parameter containing:\n",
      "tensor([[-0.1454,  0.2193],\n",
      "        [-0.6932, -0.0976],\n",
      "        [ 0.1645,  0.5521]], requires_grad=True)\n",
      "m.bias\n",
      "Parameter containing:\n",
      "tensor([-0.5549, -0.2186, -0.6164], requires_grad=True)\n",
      "output.size()\n",
      "torch.Size([2, 3])\n",
      "output\n",
      "tensor([[-0.2618, -1.1070,  0.6524],\n",
      "        [-0.1140, -2.6885,  2.0856]], grad_fn=<AddmmBackward0>)\n"
     ]
    }
   ],
   "source": [
    "import torch\n",
    "import torch.nn as nn\n",
    "\n",
    "m = nn.Linear(2, 3)\n",
    "input = torch.tensor([[1.,2.],\n",
    "                      [3.,4.]])\n",
    "output = m(input)\n",
    "print(\"input.shape\")\n",
    "print(input.shape)\n",
    "print(\"input\")\n",
    "print(input)\n",
    "print(\"m.weight.shape\")\n",
    "print(m.weight.shape)\n",
    "print(\"m.weight\")\n",
    "print(m.weight)\n",
    "print(\"m.bias\")\n",
    "print(m.bias)\n",
    "print(\"output.size()\")\n",
    "print(output.size())\n",
    "print(\"output\")\n",
    "print(output)"
   ]
  },
  {
   "cell_type": "code",
   "execution_count": 11,
   "metadata": {},
   "outputs": [
    {
     "name": "stdout",
     "output_type": "stream",
     "text": [
      "tensor([[-0.2617, -1.1070,  0.0000],\n",
      "        [ 0.0000,  0.0000,  0.0000]])\n"
     ]
    }
   ],
   "source": [
    "# see cell's output above\n",
    "# matrix multiplication\n",
    "output = torch.zeros((2,3))\n",
    "output[0][0] = (1. * (-0.1454) + 2. * 0.2193) + (-0.5549)\n",
    "output[0][1] = (1. * (-0.6932) + 2. * -0.0976) + (-0.2186)\n",
    "# and so on\n",
    "print(output)"
   ]
  }
 ],
 "metadata": {
  "kernelspec": {
   "display_name": "Python 3",
   "language": "python",
   "name": "python3"
  },
  "language_info": {
   "codemirror_mode": {
    "name": "ipython",
    "version": 3
   },
   "file_extension": ".py",
   "mimetype": "text/x-python",
   "name": "python",
   "nbconvert_exporter": "python",
   "pygments_lexer": "ipython3",
   "version": "3.11.9"
  }
 },
 "nbformat": 4,
 "nbformat_minor": 2
}
