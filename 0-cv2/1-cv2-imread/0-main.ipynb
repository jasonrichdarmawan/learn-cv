{
 "cells": [
  {
   "cell_type": "markdown",
   "metadata": {},
   "source": [
    "# cv2.imread\n",
    "\n",
    "`image[Height, Width, Channel]`\n",
    "\n",
    "`print(image)` output\n",
    "```\n",
    "[[[  0   0 248]\n",
    "  [  1 248   0]]\n",
    "\n",
    " [[246   0   0]\n",
    "  [  1 244 246]]\n",
    "\n",
    " [[243   1 244]\n",
    "  [243 242   0]]\n",
    "\n",
    " [[237 239 240]\n",
    "  [  2   3   1]]]\n",
    "```\n",
    "\n",
    "`print(image)` expanded output\n",
    "```\n",
    "[\n",
    "  [\n",
    "    [  0   0 248] [  1 248   0]\n",
    "  ]\n",
    "\n",
    "  [\n",
    "    [246   0   0] [  1 244 246]\n",
    "  ]\n",
    "\n",
    "  [\n",
    "    [243   1 244] [243 242   0]\n",
    "  ]\n",
    "  [\n",
    "    [237 239 240] [  2   3   1]\n",
    "  ]\n",
    "]\n",
    "```"
   ]
  },
  {
   "cell_type": "code",
   "execution_count": 1,
   "metadata": {},
   "outputs": [
    {
     "name": "stdout",
     "output_type": "stream",
     "text": [
      "image.shape\n",
      "(4, 2, 3)\n",
      "image\n",
      "[[[  0   0 248]\n",
      "  [  1 248   0]]\n",
      "\n",
      " [[246   0   0]\n",
      "  [  1 244 246]]\n",
      "\n",
      " [[243   1 244]\n",
      "  [243 242   0]]\n",
      "\n",
      " [[237 239 240]\n",
      "  [  2   3   1]]]\n",
      "image[:,:,1]\n",
      "[[  0 248]\n",
      " [  0 244]\n",
      " [  1 242]\n",
      " [239   3]]\n"
     ]
    }
   ],
   "source": [
    "import cv2\n",
    "import numpy as np\n",
    "\n",
    "image = cv2.imread(\"1-rgb2x4.jpg\")\n",
    "print(\"image.shape\")\n",
    "print(image.shape)\n",
    "print(\"image\")\n",
    "print(image)\n",
    "print(\"image[:,:,1]\")\n",
    "print(image[:,:,1])"
   ]
  }
 ],
 "metadata": {
  "kernelspec": {
   "display_name": "Python 3",
   "language": "python",
   "name": "python3"
  },
  "language_info": {
   "codemirror_mode": {
    "name": "ipython",
    "version": 3
   },
   "file_extension": ".py",
   "mimetype": "text/x-python",
   "name": "python",
   "nbconvert_exporter": "python",
   "pygments_lexer": "ipython3",
   "version": "3.11.9"
  }
 },
 "nbformat": 4,
 "nbformat_minor": 2
}
