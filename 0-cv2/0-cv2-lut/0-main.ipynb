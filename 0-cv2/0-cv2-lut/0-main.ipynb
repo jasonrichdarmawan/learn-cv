{
 "cells": [
  {
   "cell_type": "markdown",
   "metadata": {},
   "source": [
    "# What is cv2.LUT?\n",
    "\n",
    "cv2.LUT is a function in OpenCV that applies a lookup table (LUT) to an image. This function is useful for modfying pixel values according to predefeined table.\n",
    "It is often used for operations like gamma correction contrast adjustment, and color mapping.\n",
    "\n",
    "![gamma correction](./1-gamma-correction.png)\n",
    "\n",
    "Equation is from the literature \"A Data-Centric Solution to NonHomogeneous Dehazing via Vision Transformer\"\n",
    "\n",
    "In code\n",
    "\n",
    "```\n",
    "import numpy as np\n",
    "import cv2\n",
    "\n",
    "gamma = 0.85\n",
    "invGamma = 1 / gamma\n",
    "table = [ ( (i/255) ** invGamma ) * 255 for i in range(256) ]\n",
    "table = np.array(table, np.uint8)\n",
    "image = cv2.imread(\"2-rgb2x4.jpg\")\n",
    "cv2.LUT(image[:,:,0], table)\n",
    "```\n",
    "\n",
    "For gamma value of 0.85, the inverse gamma is 1.176\n",
    "This table maps each possible value (0-255) to a new value according to the gamma correction formula\n",
    "\n",
    "`print(image[:,:,1])` output\n",
    "```\n",
    "[[  0 248]  -> focus on 248\n",
    " [  0 244]\n",
    " [  1 242]\n",
    " [239   3]]\n",
    "```\n",
    "In the table, item index 248's value is 246. So, `cv2.LUT(image([:,:,1, table])) will change the value from 248 to 246"
   ]
  },
  {
   "cell_type": "code",
   "execution_count": 12,
   "metadata": {},
   "outputs": [
    {
     "name": "stdout",
     "output_type": "stream",
     "text": [
      "table[248]\n",
      "246\n",
      "image[:,:,1])\n",
      "[[  0 248]\n",
      " [  0 244]\n",
      " [  1 242]\n",
      " [239   3]]\n",
      "cv2.LUT(image[:,:,1], table)\n",
      "[[  0 246]\n",
      " [  0 242]\n",
      " [  0 239]\n",
      " [236   1]]\n"
     ]
    }
   ],
   "source": [
    "import numpy as np\n",
    "import cv2\n",
    "\n",
    "gamma = 0.85\n",
    "invGamma = 1 / gamma\n",
    "table = [ ( (i/255) ** invGamma ) * 255 for i in range(256) ]\n",
    "table = np.array(table, np.uint8)\n",
    "image = cv2.imread(\"2-rgb2x4.jpg\")\n",
    "print(\"table[248]\")\n",
    "print(table[248])\n",
    "print(\"image[:,:,1])\")\n",
    "print(image[:,:,1])\n",
    "print(\"cv2.LUT(image[:,:,1], table)\")\n",
    "print(cv2.LUT(image[:,:,1], table))"
   ]
  },
  {
   "cell_type": "markdown",
   "metadata": {},
   "source": [
    "# What is np.dstack?\n",
    "\n",
    "1. To make it easy to understand.\n",
    "\n",
    "   `np.dstack` combines two 1-D array to one 2-D array.\n",
    "\n",
    "2. To make it easy to understand for application.\n",
    "\n",
    "   `np.dstack` combines Blue, Green, Red channels into a BGR image.\n",
    "   \n",
    "   For example, a Blue channel of a 4x2 image have a shape (4, 2). After Blue, Green, Red channels combine, it will have a shape of (4, 2, 3), where (height, width, channel).\n",
    "\n",
    "The example below is an 4 x 2 x 3 image."
   ]
  },
  {
   "cell_type": "code",
   "execution_count": 4,
   "metadata": {},
   "outputs": [
    {
     "name": "stdout",
     "output_type": "stream",
     "text": [
      "image_B.shape\n",
      "(4, 2)\n",
      "image_BGR.shape\n",
      "(4, 2, 3)\n",
      "image_BGR\n",
      "[[[ 0  8 16]\n",
      "  [ 1  9 17]]\n",
      "\n",
      " [[ 2 10 18]\n",
      "  [ 3 11 19]]\n",
      "\n",
      " [[ 4 12 20]\n",
      "  [ 5 13 21]]\n",
      "\n",
      " [[ 6 14 22]\n",
      "  [ 7 15 23]]]\n"
     ]
    }
   ],
   "source": [
    "import numpy as np\n",
    "\n",
    "image_B = np.array([[   0,   1],\n",
    "                    [   2,   3],\n",
    "                    [   4,   5],\n",
    "                    [   6,   7]])\n",
    "image_G = np.array([[   8,   9],\n",
    "                    [  10, 11],\n",
    "                    [  12, 13],\n",
    "                    [  14, 15]])\n",
    "image_R = np.array([[  16, 17],\n",
    "                    [  18, 19],\n",
    "                    [  20, 21],\n",
    "                    [  22, 23]])\n",
    "image_BGR = np.dstack((image_B, image_G, image_R))\n",
    "print(\"image_B.shape\")\n",
    "print(image_B.shape)\n",
    "print(\"image_BGR.shape\")\n",
    "print(image_BGR.shape)\n",
    "print(\"image_BGR\")\n",
    "print(image_BGR)"
   ]
  },
  {
   "cell_type": "markdown",
   "metadata": {},
   "source": [
    "# Application"
   ]
  },
  {
   "cell_type": "code",
   "execution_count": 2,
   "metadata": {},
   "outputs": [
    {
     "name": "stdout",
     "output_type": "stream",
     "text": [
      "[[[  0   0 245]\n",
      "  [  1 246   0]]\n",
      "\n",
      " [[246   0   0]\n",
      "  [  1 242 242]]\n",
      "\n",
      " [[243   0 239]\n",
      "  [243 239   0]]\n",
      "\n",
      " [[237 236 234]\n",
      "  [  2   1   0]]]\n"
     ]
    },
    {
     "data": {
      "text/plain": [
       "True"
      ]
     },
     "execution_count": 2,
     "metadata": {},
     "output_type": "execute_result"
    }
   ],
   "source": [
    "import cv2\n",
    "import numpy as np\n",
    "\n",
    "def gammaCorrection(src: cv2.typing.MatLike, gamma: float) -> cv2.typing.MatLike:\n",
    "    invGamma = 1 / gamma\n",
    "\n",
    "    table = [ ( (i / 255) ** invGamma ) * 255 for i in range(256) ]\n",
    "    table = np.array(table, np.uint8)\n",
    "\n",
    "    srcGammaCorrected = cv2.LUT(src, table)\n",
    "\n",
    "    return srcGammaCorrected\n",
    "\n",
    "def do_gamma_correction(filename: str, gamma_B: float, gamma_G: float, gamma_R: float) -> cv2.typing.MatLike:\n",
    "    image = cv2.imread(filename)\n",
    "\n",
    "    # do gamma correction\n",
    "    gammaImage_B = gammaCorrection(image[:,:,0], gamma_B)\n",
    "    gammaImage_G = gammaCorrection(image[:,:,1], gamma_G)\n",
    "    gammaImage_R = gammaCorrection(image[:,:,2], gamma_R)\n",
    "    gammaImage = np.dstack((gammaImage_B, gammaImage_G, gammaImage_R))\n",
    "\n",
    "    return gammaImage\n",
    "\n",
    "image_gamma_corrected = do_gamma_correction(\"2-rgb2x4.jpg\", gamma_B=1, gamma_G=0.85, gamma_R=0.72)\n",
    "\n",
    "print(image_gamma_corrected)\n",
    "\n",
    "# save the gamma corrected image\n",
    "cv2.imwrite(\"2-rgb2x4-gamma-corrected.png\", image_gamma_corrected)"
   ]
  }
 ],
 "metadata": {
  "kernelspec": {
   "display_name": "Python 3",
   "language": "python",
   "name": "python3"
  },
  "language_info": {
   "codemirror_mode": {
    "name": "ipython",
    "version": 3
   },
   "file_extension": ".py",
   "mimetype": "text/x-python",
   "name": "python",
   "nbconvert_exporter": "python",
   "pygments_lexer": "ipython3",
   "version": "3.11.9"
  }
 },
 "nbformat": 4,
 "nbformat_minor": 2
}
